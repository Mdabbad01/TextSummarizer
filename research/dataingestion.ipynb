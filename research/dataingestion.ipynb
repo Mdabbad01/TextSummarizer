{
 "cells": [
  {
   "cell_type": "code",
   "execution_count": 340,
   "id": "2cc32360",
   "metadata": {},
   "outputs": [
    {
     "name": "stdout",
     "output_type": "stream",
     "text": [
      "Now CWD: C:\\projects\\Summarizer\n",
      "Config exists: True\n"
     ]
    }
   ],
   "source": [
    "import os\n",
    "os.chdir(\"C:/projects/Summarizer\")  # switch into your project folder\n",
    "print(\"Now CWD:\", os.getcwd())\n",
    "print(\"Config exists:\", os.path.exists(\"config/config.yaml\"))\n"
   ]
  },
  {
   "cell_type": "code",
   "execution_count": 341,
   "id": "3efee673",
   "metadata": {},
   "outputs": [
    {
     "name": "stdout",
     "output_type": "stream",
     "text": [
      "Now CWD: C:\\projects\\Summarizer\n"
     ]
    }
   ],
   "source": [
    "import os\n",
    "os.chdir(\"C:/projects/Summarizer\")  # <-- change to your project root\n",
    "print(\"Now CWD:\", os.getcwd())\n"
   ]
  },
  {
   "cell_type": "code",
   "execution_count": 342,
   "id": "97e80866",
   "metadata": {},
   "outputs": [
    {
     "data": {
      "text/plain": [
       "'C:\\\\projects\\\\Summarizer'"
      ]
     },
     "execution_count": 342,
     "metadata": {},
     "output_type": "execute_result"
    }
   ],
   "source": [
    "\n",
    "import os\n",
    "%pwd"
   ]
  },
  {
   "cell_type": "code",
   "execution_count": 343,
   "id": "990b3446",
   "metadata": {},
   "outputs": [
    {
     "data": {
      "text/plain": [
       "'C:\\\\projects'"
      ]
     },
     "execution_count": 343,
     "metadata": {},
     "output_type": "execute_result"
    }
   ],
   "source": [
    "os.chdir(\"../\")\n",
    "%pwd"
   ]
  },
  {
   "cell_type": "code",
   "execution_count": 344,
   "id": "7f4c7878",
   "metadata": {},
   "outputs": [
    {
     "name": "stdout",
     "output_type": "stream",
     "text": [
      "PROJECT_ROOT: C:\\projects\\Summarizer\n",
      "CONFIG_FILE_PATH: C:\\projects\\Summarizer\\config\\config.yaml\n",
      "CONFIG exists: True\n",
      "PARAMS_FILE_PATH: C:\\projects\\Summarizer\\params.yaml\n",
      "PARAMS exists: True\n",
      "CONFIG_FILE_PATH: C:\\projects\\Summarizer\\config\\config.yaml\n",
      "CONFIG exists: True\n",
      "PARAMS_FILE_PATH: C:\\projects\\Summarizer\\params.yaml\n",
      "PARAMS exists: True\n"
     ]
    }
   ],
   "source": [
    "import importlib\n",
    "import src.summarizer.constants as constants\n",
    "\n",
    "# Reload the constants module to pick up changes\n",
    "importlib.reload(constants)\n",
    "\n",
    "print(\"CONFIG_FILE_PATH:\", constants.CONFIG_FILE_PATH)\n",
    "print(\"CONFIG exists:\", constants.CONFIG_FILE_PATH.exists())\n",
    "print(\"PARAMS_FILE_PATH:\", constants.PARAMS_FILE_PATH)\n",
    "print(\"PARAMS exists:\", constants.PARAMS_FILE_PATH.exists())\n",
    "\n"
   ]
  },
  {
   "cell_type": "code",
   "execution_count": 345,
   "id": "47cb555c",
   "metadata": {},
   "outputs": [],
   "source": [
    "# Cell 1\n",
    "from dataclasses import dataclass\n",
    "from pathlib import Path\n",
    "\n",
    "@dataclass\n",
    "class DataIngestionConfig:\n",
    "    root_dir: Path\n",
    "    source_URL: str\n",
    "    local_data_file: Path\n",
    "    unzip_dir: Path\n",
    "\n",
    "    \n",
    "    \n",
    "    "
   ]
  },
  {
   "cell_type": "code",
   "execution_count": 346,
   "id": "af3504ed",
   "metadata": {},
   "outputs": [
    {
     "name": "stdout",
     "output_type": "stream",
     "text": [
      "CONFIG exists: True\n",
      "PARAMS exists: True\n"
     ]
    }
   ],
   "source": [
    "# Cell 2\n",
    "from pathlib import Path\n",
    "\n",
    "# Explicitly point to your project folder\n",
    "PROJECT_ROOT = Path(\"C:/projects/Summarizer\")  # <-- adjust to your actual path\n",
    "\n",
    "CONFIG_FILE_PATH = PROJECT_ROOT / \"config\" / \"config.yaml\"\n",
    "PARAMS_FILE_PATH = PROJECT_ROOT / \"params.yaml\"\n",
    "\n",
    "print(\"CONFIG exists:\", CONFIG_FILE_PATH.exists())  # should be True\n",
    "print(\"PARAMS exists:\", PARAMS_FILE_PATH.exists())  # should be True\n"
   ]
  },
  {
   "cell_type": "code",
   "execution_count": 347,
   "id": "8a67cbf0",
   "metadata": {},
   "outputs": [],
   "source": [
    "\n",
    "from src.summarizer.utils.common import read_yaml, create_directories\n",
    "from src.summarizer.constants import CONFIG_FILE_PATH, PARAMS_FILE_PATH\n",
    "\n",
    "from pathlib import Path\n",
    "\n",
    "\n",
    "    # go up one level to Summarizer\n",
    "\n",
    "\n",
    "\n"
   ]
  },
  {
   "cell_type": "code",
   "execution_count": null,
   "id": "4c05515b",
   "metadata": {},
   "outputs": [],
   "source": []
  },
  {
   "cell_type": "code",
   "execution_count": null,
   "id": "ec40fed9",
   "metadata": {},
   "outputs": [],
   "source": []
  },
  {
   "cell_type": "code",
   "execution_count": 348,
   "id": "7e9ae675",
   "metadata": {},
   "outputs": [],
   "source": [
    "import os\n",
    "import urllib.request as request\n",
    "import zipfile\n",
    "from src.summarizer.logging import logger \n"
   ]
  },
  {
   "cell_type": "code",
   "execution_count": 349,
   "id": "0756878b",
   "metadata": {},
   "outputs": [],
   "source": [
    "# Cell 4\n",
    "# Cell 4\n",
    "\n",
    "\n",
    "class ConfigurationManager:\n",
    "    def __init__(self, config_path=CONFIG_FILE_PATH, params_filepath=PARAMS_FILE_PATH):\n",
    "        # Read YAML files\n",
    "        self.config = read_yaml(config_path)\n",
    "        self.params = read_yaml(params_filepath)\n",
    "\n",
    "        # Convert artifacts_root to absolute Path\n",
    "        self.artifacts_root = PROJECT_ROOT / self.config['artifacts_root']\n",
    "        create_directories([self.artifacts_root])\n",
    "\n",
    "    def get_data_ingestion_config(self) -> DataIngestionConfig:\n",
    "        config = self.config['data_ingestion']\n",
    "        \n",
    "        # Absolute paths\n",
    "        root_dir = self.artifacts_root / Path(config['root_dir']).name\n",
    "        local_data_file = self.artifacts_root / Path(config['local_data_file']).name\n",
    "        unzip_dir = self.artifacts_root / Path(config['unzip_dir']).name\n",
    "\n",
    "        create_directories([root_dir, unzip_dir])\n",
    "\n",
    "        return DataIngestionConfig(\n",
    "            root_dir=root_dir,\n",
    "            source_URL=str(config['source_URL']),\n",
    "            local_data_file=local_data_file,\n",
    "            unzip_dir=unzip_dir\n",
    "        )\n"
   ]
  },
  {
   "cell_type": "code",
   "execution_count": 350,
   "id": "39b61da8",
   "metadata": {},
   "outputs": [],
   "source": [
    "# Cell 6\n",
    "# Cell 5\n",
    "import os\n",
    "import urllib.request as request\n",
    "import zipfile\n",
    "from src.summarizer.logging import logger\n",
    "\n",
    "class DataIngestion:\n",
    "    def __init__(self, config: DataIngestionConfig):\n",
    "        self.config = config\n",
    "    \n",
    "    def download_file(self):\n",
    "        if not self.config.local_data_file.exists():\n",
    "            filename, header = request.urlretrieve(\n",
    "                url=self.config.source_URL,\n",
    "                filename=self.config.local_data_file\n",
    "            )\n",
    "            logger.info(f\"File downloaded to: {self.config.local_data_file}\")\n",
    "        else:\n",
    "            logger.info(f\"File already exists at: {self.config.local_data_file}\")\n",
    "    \n",
    "    def extract_zip_file(self):\n",
    "        os.makedirs(self.config.unzip_dir, exist_ok=True)\n",
    "        with zipfile.ZipFile(self.config.local_data_file, 'r') as zip_ref:\n",
    "            zip_ref.extractall(self.config.unzip_dir)\n",
    "        logger.info(f\"Extracted zip file to: {self.config.unzip_dir}\")\n"
   ]
  },
  {
   "cell_type": "code",
   "execution_count": 351,
   "id": "5d90b2a3",
   "metadata": {},
   "outputs": [
    {
     "name": "stdout",
     "output_type": "stream",
     "text": [
      "PROJECT_ROOT: C:\\projects\\Summarizer\n",
      "CONFIG_FILE_PATH: C:\\projects\\Summarizer\\config\\config.yaml\n",
      "CONFIG exists: True\n",
      "PARAMS_FILE_PATH: C:\\projects\\Summarizer\\params.yaml\n",
      "PARAMS exists: True\n"
     ]
    }
   ],
   "source": [
    "from src.summarizer.constants import CONFIG_FILE_PATH, PARAMS_FILE_PATH\n",
    "\n",
    "print(\"PROJECT_ROOT:\", PROJECT_ROOT)\n",
    "print(\"CONFIG_FILE_PATH:\", CONFIG_FILE_PATH)\n",
    "print(\"CONFIG exists:\", CONFIG_FILE_PATH.exists())\n",
    "print(\"PARAMS_FILE_PATH:\", PARAMS_FILE_PATH)\n",
    "print(\"PARAMS exists:\", PARAMS_FILE_PATH.exists())\n"
   ]
  },
  {
   "cell_type": "code",
   "execution_count": 352,
   "id": "a42ec0d1",
   "metadata": {},
   "outputs": [
    {
     "name": "stdout",
     "output_type": "stream",
     "text": [
      "True\n"
     ]
    }
   ],
   "source": [
    "from pathlib import Path\n",
    "\n",
    "print(Path(\"C:/projects/Summarizer/config/config.yaml\").exists())\n"
   ]
  },
  {
   "cell_type": "code",
   "execution_count": 353,
   "id": "32c31568",
   "metadata": {},
   "outputs": [
    {
     "name": "stdout",
     "output_type": "stream",
     "text": [
      "CONFIG_FILE_PATH: C:\\projects\\Summarizer\\config\\config.yaml\n",
      "CONFIG exists: True\n"
     ]
    }
   ],
   "source": [
    "from src.summarizer.constants import CONFIG_FILE_PATH\n",
    "\n",
    "print(\"CONFIG_FILE_PATH:\", CONFIG_FILE_PATH)\n",
    "print(\"CONFIG exists:\", CONFIG_FILE_PATH.exists())\n"
   ]
  },
  {
   "cell_type": "code",
   "execution_count": 357,
   "id": "292246c1",
   "metadata": {},
   "outputs": [
    {
     "name": "stdout",
     "output_type": "stream",
     "text": [
      "[2025-09-11 20:06:01,608:  INFO:common:yaml file:C:\\projects\\Summarizer\\config\\config.yaml loaded successfully]\n",
      "[2025-09-11 20:06:01,616:  INFO:common:yaml file:C:\\projects\\Summarizer\\params.yaml loaded successfully]\n"
     ]
    },
    {
     "ename": "TypeError",
     "evalue": "expected str, bytes or os.PathLike object, not type",
     "output_type": "error",
     "traceback": [
      "\u001b[31m---------------------------------------------------------------------------\u001b[39m",
      "\u001b[31mTypeError\u001b[39m                                 Traceback (most recent call last)",
      "\u001b[36mCell\u001b[39m\u001b[36m \u001b[39m\u001b[32mIn[357]\u001b[39m\u001b[32m, line 1\u001b[39m\n\u001b[32m----> \u001b[39m\u001b[32m1\u001b[39m config_manager = \u001b[43mConfigurationManager\u001b[49m\u001b[43m(\u001b[49m\u001b[43m)\u001b[49m\n\u001b[32m      2\u001b[39m data_ingestion_config = config_manager.get_data_ingestion_config()\n\u001b[32m      3\u001b[39m data_ingestion = DataIngestion(config=data_ingestion_config)\n",
      "\u001b[36mCell\u001b[39m\u001b[36m \u001b[39m\u001b[32mIn[349]\u001b[39m\u001b[32m, line 13\u001b[39m, in \u001b[36mConfigurationManager.__init__\u001b[39m\u001b[34m(self, config_path, params_filepath)\u001b[39m\n\u001b[32m     11\u001b[39m \u001b[38;5;66;03m# Convert artifacts_root to absolute Path\u001b[39;00m\n\u001b[32m     12\u001b[39m \u001b[38;5;28mself\u001b[39m.artifacts_root = PROJECT_ROOT / \u001b[38;5;28mself\u001b[39m.config[\u001b[33m'\u001b[39m\u001b[33martifacts_root\u001b[39m\u001b[33m'\u001b[39m]\n\u001b[32m---> \u001b[39m\u001b[32m13\u001b[39m \u001b[43mcreate_directories\u001b[49m\u001b[43m(\u001b[49m\u001b[43m[\u001b[49m\u001b[38;5;28;43mself\u001b[39;49m\u001b[43m.\u001b[49m\u001b[43martifacts_root\u001b[49m\u001b[43m]\u001b[49m\u001b[43m)\u001b[49m\n",
      "\u001b[36mFile \u001b[39m\u001b[32mc:\\projects\\Summarizer\\venv\\Lib\\site-packages\\ensure\\main.py:835\u001b[39m, in \u001b[36mWrappedFunction.__call__\u001b[39m\u001b[34m(self, *args, **kwargs)\u001b[39m\n\u001b[32m    832\u001b[39m         msg = \u001b[33m\"\u001b[39m\u001b[33mArgument \u001b[39m\u001b[38;5;132;01m{arg}\u001b[39;00m\u001b[33m of type \u001b[39m\u001b[38;5;132;01m{valt}\u001b[39;00m\u001b[33m to \u001b[39m\u001b[38;5;132;01m{f}\u001b[39;00m\u001b[33m \u001b[39m\u001b[33m\"\u001b[39m \u001b[33m\"\u001b[39m\u001b[33mdoes not match annotation type \u001b[39m\u001b[38;5;132;01m{t}\u001b[39;00m\u001b[33m\"\u001b[39m\n\u001b[32m    833\u001b[39m         \u001b[38;5;28;01mraise\u001b[39;00m EnsureError(msg.format(arg=arg, f=\u001b[38;5;28mself\u001b[39m.f, t=templ, valt=\u001b[38;5;28mtype\u001b[39m(value)))\n\u001b[32m--> \u001b[39m\u001b[32m835\u001b[39m \u001b[38;5;28;01mreturn\u001b[39;00m \u001b[38;5;28;43mself\u001b[39;49m\u001b[43m.\u001b[49m\u001b[43mf\u001b[49m\u001b[43m(\u001b[49m\u001b[43m*\u001b[49m\u001b[43margs\u001b[49m\u001b[43m,\u001b[49m\u001b[43m \u001b[49m\u001b[43m*\u001b[49m\u001b[43m*\u001b[49m\u001b[43mkwargs\u001b[49m\u001b[43m)\u001b[49m\n",
      "\u001b[36mFile \u001b[39m\u001b[32mc:\\projects\\Summarizer\\src\\summarizer\\utils\\common.py:43\u001b[39m, in \u001b[36mcreate_directories\u001b[39m\u001b[34m(path_to_directories, verbose)\u001b[39m\n\u001b[32m     35\u001b[39m \u001b[38;5;129m@ensure_annotations\u001b[39m\n\u001b[32m     36\u001b[39m \u001b[38;5;28;01mdef\u001b[39;00m\u001b[38;5;250m \u001b[39m\u001b[34mcreate_directories\u001b[39m(path_to_directories: \u001b[38;5;28mlist\u001b[39m, verbose=\u001b[38;5;28;01mTrue\u001b[39;00m):\n\u001b[32m     37\u001b[39m \u001b[38;5;250m    \u001b[39m\u001b[33;03m\"\"\"create list of directories\u001b[39;00m\n\u001b[32m     38\u001b[39m \u001b[33;03m    Args:\u001b[39;00m\n\u001b[32m     39\u001b[39m \u001b[33;03m        path_to_directories (list):list of path of directories\u001b[39;00m\n\u001b[32m     40\u001b[39m \u001b[33;03m        ignore_log (bool,optional): ignore if multipule dirs is to be created.Defaults to \u001b[39;00m\n\u001b[32m     41\u001b[39m \u001b[33;03m    \u001b[39;00m\n\u001b[32m     42\u001b[39m \u001b[33;03m    \"\"\"\u001b[39;00m\n\u001b[32m---> \u001b[39m\u001b[32m43\u001b[39m     \u001b[43mos\u001b[49m\u001b[43m.\u001b[49m\u001b[43mmakedirs\u001b[49m\u001b[43m(\u001b[49m\u001b[43mPath\u001b[49m\u001b[43m,\u001b[49m\u001b[43mexist_ok\u001b[49m\u001b[43m=\u001b[49m\u001b[38;5;28;43;01mTrue\u001b[39;49;00m\u001b[43m)\u001b[49m\n\u001b[32m     44\u001b[39m     \u001b[38;5;28;01mif\u001b[39;00m verbose:\n\u001b[32m     45\u001b[39m         logger.info(\u001b[33mf\u001b[39m\u001b[33m\"\u001b[39m\u001b[33mcreated directory at:\u001b[39m\u001b[38;5;132;01m{\u001b[39;00mPath\u001b[38;5;132;01m}\u001b[39;00m\u001b[33m\"\u001b[39m)\n",
      "\u001b[36mFile \u001b[39m\u001b[32m<frozen os>:210\u001b[39m, in \u001b[36mmakedirs\u001b[39m\u001b[34m(name, mode, exist_ok)\u001b[39m\n",
      "\u001b[36mFile \u001b[39m\u001b[32m<frozen ntpath>:241\u001b[39m, in \u001b[36msplit\u001b[39m\u001b[34m(p)\u001b[39m\n",
      "\u001b[31mTypeError\u001b[39m: expected str, bytes or os.PathLike object, not type"
     ]
    }
   ],
   "source": [
    "config_manager = ConfigurationManager()\n",
    "data_ingestion_config = config_manager.get_data_ingestion_config()\n",
    "data_ingestion = DataIngestion(config=data_ingestion_config)\n",
    "\n",
    "data_ingestion.download_file()\n",
    "data_ingestion.extract_zip_file()\n"
   ]
  },
  {
   "cell_type": "code",
   "execution_count": null,
   "id": "fee55c79",
   "metadata": {},
   "outputs": [
    {
     "name": "stdout",
     "output_type": "stream",
     "text": [
      "PROJECT_ROOT: .\n",
      "CONFIG_FILE_PATH: config\\config.yaml\n",
      "CONFIG exists: False\n",
      "PARAMS exists: False\n"
     ]
    }
   ],
   "source": [
    "from src.summarizer.constants import CONFIG_FILE_PATH, PARAMS_FILE_PATH\n",
    "\n",
    "print(\"PROJECT_ROOT:\", CONFIG_FILE_PATH.parent.parent)  # should be .../Summarizer\n",
    "print(\"CONFIG_FILE_PATH:\", CONFIG_FILE_PATH)\n",
    "print(\"CONFIG exists:\", CONFIG_FILE_PATH.exists())\n",
    "print(\"PARAMS exists:\", PARAMS_FILE_PATH.exists())\n"
   ]
  },
  {
   "cell_type": "code",
   "execution_count": null,
   "id": "4d0c03c7",
   "metadata": {},
   "outputs": [
    {
     "name": "stdout",
     "output_type": "stream",
     "text": [
      "Notebook working directory: C:\\projects\n",
      "CONFIG_FILE_PATH exists: False\n",
      "PARAMS_FILE_PATH exists: False\n"
     ]
    }
   ],
   "source": [
    "from pathlib import Path\n",
    "from src.summarizer.constants import CONFIG_FILE_PATH, PARAMS_FILE_PATH\n",
    "\n",
    "print(\"Notebook working directory:\", Path().resolve())\n",
    "print(\"CONFIG_FILE_PATH exists:\", CONFIG_FILE_PATH.exists())\n",
    "print(\"PARAMS_FILE_PATH exists:\", PARAMS_FILE_PATH.exists())\n"
   ]
  },
  {
   "cell_type": "code",
   "execution_count": null,
   "id": "764ad4b1",
   "metadata": {},
   "outputs": [
    {
     "ename": "FileNotFoundError",
     "evalue": "Cannot find config/config.yaml in any parent folders",
     "output_type": "error",
     "traceback": [
      "\u001b[31m---------------------------------------------------------------------------\u001b[39m",
      "\u001b[31mFileNotFoundError\u001b[39m                         Traceback (most recent call last)",
      "\u001b[36mCell\u001b[39m\u001b[36m \u001b[39m\u001b[32mIn[70]\u001b[39m\u001b[32m, line 10\u001b[39m\n\u001b[32m      8\u001b[39m     PROJECT_ROOT = PROJECT_ROOT.parent\n\u001b[32m      9\u001b[39m     \u001b[38;5;28;01mif\u001b[39;00m PROJECT_ROOT.parent == PROJECT_ROOT:\n\u001b[32m---> \u001b[39m\u001b[32m10\u001b[39m         \u001b[38;5;28;01mraise\u001b[39;00m \u001b[38;5;167;01mFileNotFoundError\u001b[39;00m(\u001b[33m\"\u001b[39m\u001b[33mCannot find config/config.yaml in any parent folders\u001b[39m\u001b[33m\"\u001b[39m)\n\u001b[32m     12\u001b[39m CONFIG_FILE_PATH = PROJECT_ROOT / \u001b[33m\"\u001b[39m\u001b[33mconfig\u001b[39m\u001b[33m\"\u001b[39m / \u001b[33m\"\u001b[39m\u001b[33mconfig.yaml\u001b[39m\u001b[33m\"\u001b[39m\n\u001b[32m     13\u001b[39m PARAMS_FILE_PATH = PROJECT_ROOT / \u001b[33m\"\u001b[39m\u001b[33mparams.yaml\u001b[39m\u001b[33m\"\u001b[39m\n",
      "\u001b[31mFileNotFoundError\u001b[39m: Cannot find config/config.yaml in any parent folders"
     ]
    }
   ],
   "source": [
    "from pathlib import Path\n",
    "\n",
    "NOTEBOOK_DIR = Path().resolve()\n",
    "PROJECT_ROOT = NOTEBOOK_DIR\n",
    "\n",
    "# climb up until config/config.yaml exists\n",
    "while not (PROJECT_ROOT / \"config\" / \"config.yaml\").exists():\n",
    "    PROJECT_ROOT = PROJECT_ROOT.parent\n",
    "    if PROJECT_ROOT.parent == PROJECT_ROOT:\n",
    "        raise FileNotFoundError(\"Cannot find config/config.yaml in any parent folders\")\n",
    "\n",
    "CONFIG_FILE_PATH = PROJECT_ROOT / \"config\" / \"config.yaml\"\n",
    "PARAMS_FILE_PATH = PROJECT_ROOT / \"params.yaml\"\n",
    "\n",
    "print(\"Using PROJECT_ROOT:\", PROJECT_ROOT)\n",
    "print(\"CONFIG exists:\", CONFIG_FILE_PATH.exists())\n",
    "print(\"PARAMS exists:\", PARAMS_FILE_PATH.exists())\n"
   ]
  }
 ],
 "metadata": {
  "kernelspec": {
   "display_name": "venv",
   "language": "python",
   "name": "python3"
  },
  "language_info": {
   "codemirror_mode": {
    "name": "ipython",
    "version": 3
   },
   "file_extension": ".py",
   "mimetype": "text/x-python",
   "name": "python",
   "nbconvert_exporter": "python",
   "pygments_lexer": "ipython3",
   "version": "3.12.7"
  }
 },
 "nbformat": 4,
 "nbformat_minor": 5
}
